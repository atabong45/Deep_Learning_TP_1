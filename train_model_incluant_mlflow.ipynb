{
 "cells": [
  {
   "cell_type": "code",
   "execution_count": 11,
   "id": "00e23d7e",
   "metadata": {},
   "outputs": [],
   "source": [
    "import tensorflow as tf\n",
    "from tensorflow import keras\n",
    "import numpy as np\n",
    "import mlflow\n",
    "import mlflow . tensorflow"
   ]
  },
  {
   "cell_type": "code",
   "execution_count": 12,
   "id": "915df8a0",
   "metadata": {},
   "outputs": [],
   "source": [
    "\n",
    "\n",
    "EPOCHS = 5\n",
    "BATCH_SIZE = 128\n",
    "DROPOUT_RATE = 0.2\n",
    "\n"
   ]
  },
  {
   "cell_type": "code",
   "execution_count": 13,
   "id": "635aaab8",
   "metadata": {},
   "outputs": [],
   "source": [
    "# Chargement du jeu de d o n n e s MNIST\n",
    "( x_train , y_train ) , ( x_test , y_test ) = keras . datasets . mnist . load_data ()"
   ]
  },
  {
   "cell_type": "code",
   "execution_count": 14,
   "id": "93b7a2f4",
   "metadata": {},
   "outputs": [],
   "source": [
    "# Normalisation des d o n n e s\n",
    "x_train = x_train . astype ( \"float32\" ) / 255.0\n",
    "x_test = x_test . astype ( \"float32\" ) / 255.0"
   ]
  },
  {
   "cell_type": "code",
   "execution_count": 15,
   "id": "3d2329d6",
   "metadata": {},
   "outputs": [],
   "source": [
    "# Redimensionnement des images pour les réseaux fully-connected\n",
    "x_train = x_train.reshape(60000, 784)\n",
    "x_test = x_test.reshape(10000, 784)"
   ]
  },
  {
   "cell_type": "code",
   "execution_count": 16,
   "id": "18f1d221",
   "metadata": {},
   "outputs": [
    {
     "name": "stderr",
     "output_type": "stream",
     "text": [
      "/home/atabong/Documents/projet/Deep Learning/TP 1/venv/lib/python3.10/site-packages/keras/src/layers/core/dense.py:92: UserWarning: Do not pass an `input_shape`/`input_dim` argument to a layer. When using Sequential models, prefer using an `Input(shape)` object as the first layer in the model instead.\n",
      "  super().__init__(activity_regularizer=activity_regularizer, **kwargs)\n",
      "2025-09-24 15:57:55.886728: W external/local_xla/xla/tsl/framework/cpu_allocator_impl.cc:84] Allocation of 169344000 exceeds 10% of free system memory.\n"
     ]
    },
    {
     "name": "stdout",
     "output_type": "stream",
     "text": [
      "Epoch 1/5\n",
      "\u001b[1m422/422\u001b[0m \u001b[32m━━━━━━━━━━━━━━━━━━━━\u001b[0m\u001b[37m\u001b[0m \u001b[1m6s\u001b[0m 11ms/step - accuracy: 0.9109 - loss: 0.3062 - val_accuracy: 0.9642 - val_loss: 0.1271\n",
      "Epoch 2/5\n",
      "\u001b[1m422/422\u001b[0m \u001b[32m━━━━━━━━━━━━━━━━━━━━\u001b[0m\u001b[37m\u001b[0m \u001b[1m4s\u001b[0m 9ms/step - accuracy: 0.9617 - loss: 0.1323 - val_accuracy: 0.9725 - val_loss: 0.0943\n",
      "Epoch 3/5\n",
      "\u001b[1m422/422\u001b[0m \u001b[32m━━━━━━━━━━━━━━━━━━━━\u001b[0m\u001b[37m\u001b[0m \u001b[1m4s\u001b[0m 9ms/step - accuracy: 0.9726 - loss: 0.0915 - val_accuracy: 0.9778 - val_loss: 0.0758\n",
      "Epoch 4/5\n",
      "\u001b[1m422/422\u001b[0m \u001b[32m━━━━━━━━━━━━━━━━━━━━\u001b[0m\u001b[37m\u001b[0m \u001b[1m4s\u001b[0m 9ms/step - accuracy: 0.9797 - loss: 0.0687 - val_accuracy: 0.9797 - val_loss: 0.0675\n",
      "Epoch 5/5\n",
      "\u001b[1m422/422\u001b[0m \u001b[32m━━━━━━━━━━━━━━━━━━━━\u001b[0m\u001b[37m\u001b[0m \u001b[1m4s\u001b[0m 9ms/step - accuracy: 0.9842 - loss: 0.0530 - val_accuracy: 0.9795 - val_loss: 0.0710\n",
      "\u001b[1m313/313\u001b[0m \u001b[32m━━━━━━━━━━━━━━━━━━━━\u001b[0m\u001b[37m\u001b[0m \u001b[1m1s\u001b[0m 3ms/step - accuracy: 0.9765 - loss: 0.0728\n",
      "Précision sur les données de test : 0.9765\n",
      "Perte sur les données de test : 0.0728\n"
     ]
    },
    {
     "name": "stderr",
     "output_type": "stream",
     "text": [
      "2025/09/24 15:58:18 WARNING mlflow.models.model: `artifact_path` is deprecated. Please use `name` instead.\n",
      "2025/09/24 15:58:18 WARNING mlflow.keras.save: You are saving a Keras model without specifying model signature.\n",
      "\u001b[31m2025/09/24 15:58:26 WARNING mlflow.models.model: Model logged without a signature and input example. Please set `input_example` parameter when logging the model to auto infer the model signature.\u001b[0m\n"
     ]
    }
   ],
   "source": [
    "# Lancement de la session de suivi MLflow\n",
    "with mlflow.start_run():\n",
    "    # Enregistrement des paramètres\n",
    "    mlflow.log_param(\"epochs\", EPOCHS)\n",
    "    mlflow.log_param(\"batch_size\", BATCH_SIZE)\n",
    "    mlflow.log_param(\"dropout_rate\", DROPOUT_RATE)\n",
    "\n",
    "    model = keras.Sequential([\n",
    "    keras.layers.Dense(512, activation='relu', input_shape=(784,)),\n",
    "    keras.layers.Dropout(0.2),\n",
    "    keras.layers.Dense(10, activation='softmax')\n",
    "    ])\n",
    "\n",
    "    # Compilation du modèle\n",
    "    model.compile(\n",
    "    optimizer='adam',\n",
    "    loss='sparse_categorical_crossentropy',\n",
    "    metrics=['accuracy']\n",
    "    )\n",
    "\n",
    "    # Entrainement du modèle\n",
    "    history = model.fit(\n",
    "    x_train,\n",
    "    y_train,\n",
    "    epochs=EPOCHS,\n",
    "    batch_size=BATCH_SIZE,\n",
    "    validation_split=0.1\n",
    "    )\n",
    "\n",
    "    # Évaluation du modèle\n",
    "    test_loss, test_acc = model.evaluate(x_test, y_test)\n",
    "    print(f\"Précision sur les données de test : {test_acc:.4f}\")\n",
    "    print(f\"Perte sur les données de test : {test_loss:.4f}\")\n",
    "\n",
    "    # Enregistrement des métriques\n",
    "    mlflow.log_metric(\"test_accuracy\", test_acc)\n",
    "    mlflow.log_metric(\"test_loss\", test_loss)\n",
    "\n",
    "    # Enregistrement du modèle complet\n",
    "    mlflow.keras.log_model(model, \"mnist-model\")\n"
   ]
  },
  {
   "cell_type": "code",
   "execution_count": 17,
   "id": "b87bcab5",
   "metadata": {},
   "outputs": [
    {
     "name": "stderr",
     "output_type": "stream",
     "text": [
      "WARNING:absl:You are saving your model as an HDF5 file via `model.save()` or `keras.saving.save_model(model)`. This file format is considered legacy. We recommend using instead the native Keras format, e.g. `model.save('my_model.keras')` or `keras.saving.save_model(model, 'my_model.keras')`. \n"
     ]
    },
    {
     "name": "stdout",
     "output_type": "stream",
     "text": [
      "Modèle sauvegardé sous mnist_model.h5\n"
     ]
    }
   ],
   "source": [
    "# Sauvegarde du modèle\n",
    "model.save(\"mnist_model.h5\")\n",
    "print(\"Modèle sauvegardé sous mnist_model.h5\")"
   ]
  }
 ],
 "metadata": {
  "kernelspec": {
   "display_name": "venv (3.10.12)",
   "language": "python",
   "name": "python3"
  },
  "language_info": {
   "codemirror_mode": {
    "name": "ipython",
    "version": 3
   },
   "file_extension": ".py",
   "mimetype": "text/x-python",
   "name": "python",
   "nbconvert_exporter": "python",
   "pygments_lexer": "ipython3",
   "version": "3.10.12"
  }
 },
 "nbformat": 4,
 "nbformat_minor": 5
}
